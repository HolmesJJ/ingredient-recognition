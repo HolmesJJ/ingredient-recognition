{
 "cells": [
  {
   "cell_type": "code",
   "execution_count": null,
   "id": "d5eaedce",
   "metadata": {},
   "outputs": [],
   "source": [
    "import os\n",
    "import glob\n",
    "import numpy as np\n",
    "import pandas as pd\n",
    "import matplotlib.pyplot as plt\n",
    "\n",
    "from keras.utils import load_img\n",
    "from keras.utils import img_to_array\n",
    "from keras.models import load_model\n",
    "from keras.metrics import top_k_categorical_accuracy\n",
    "from keras.preprocessing.image import ImageDataGenerator"
   ]
  },
  {
   "cell_type": "code",
   "execution_count": null,
   "id": "66e5ea1b",
   "metadata": {},
   "outputs": [],
   "source": [
    "FOOD_PATH = \"food/\"\n",
    "FOOD_DIR = glob.glob(\"food/*\")\n",
    "CATEGORIES_PATH = \"categories.csv\"\n",
    "\n",
    "MODELS = [\"food-seg-103-xception\", \"food-seg-103-densenet201\", \"food-seg-103-inceptionresnetv2\"]\n",
    "CHECKPOINT_PATHS = [\"checkpoints/\" + MODEL + \".h5\" for MODEL in MODELS]\n",
    "MODEL_PATHS = [\"models/\" + MODEL + \".h5\" for MODEL in MODELS]\n",
    "\n",
    "IMAGE_SIZE = 512\n",
    "TOP_N = 5"
   ]
  },
  {
   "cell_type": "code",
   "execution_count": null,
   "id": "be902d4a",
   "metadata": {},
   "outputs": [],
   "source": [
    "categories = list(pd.read_csv(CATEGORIES_PATH, header=None)[0])"
   ]
  },
  {
   "cell_type": "code",
   "execution_count": null,
   "id": "ea2115de",
   "metadata": {},
   "outputs": [],
   "source": [
    "def acc_top5(y_true, y_pred):\n",
    "    return top_k_categorical_accuracy(y_true, y_pred, k=5)"
   ]
  },
  {
   "cell_type": "code",
   "execution_count": null,
   "id": "d7efb53f",
   "metadata": {},
   "outputs": [],
   "source": [
    "def load_models():\n",
    "    loaded_models = []\n",
    "    for CHECKPOINT_PATH in CHECKPOINT_PATHS:\n",
    "        loaded_models.append(load_model(CHECKPOINT_PATH, custom_objects={\"acc_top5\": acc_top5}))\n",
    "    print(\"Models Loaded\")\n",
    "    return loaded_models"
   ]
  },
  {
   "cell_type": "code",
   "execution_count": null,
   "id": "37b30c1c",
   "metadata": {},
   "outputs": [],
   "source": [
    "models = load_models()"
   ]
  },
  {
   "cell_type": "code",
   "execution_count": null,
   "id": "c99a3d6b",
   "metadata": {},
   "outputs": [],
   "source": [
    "def predict(model, filepath, top_n=1):\n",
    "    test_image = load_img(filepath, target_size=(IMAGE_SIZE, IMAGE_SIZE))\n",
    "    test_image_array = img_to_array(test_image)\n",
    "    test_image_array = np.expand_dims(test_image_array, axis=0)\n",
    "    test_image_array = test_image_array / 255.\n",
    "    prediction = model.predict(test_image_array, verbose=0)\n",
    "    predicted_label = np.argsort(prediction[0])[::-1][:top_n]\n",
    "    predicted_score = prediction[0][predicted_label]\n",
    "    return predicted_label, predicted_score"
   ]
  },
  {
   "cell_type": "code",
   "execution_count": null,
   "id": "ef7b3d5c",
   "metadata": {},
   "outputs": [],
   "source": [
    "def ensemble_predict(filepath, top_n=1):\n",
    "    predicted_labels = []\n",
    "    predicted_scores = []\n",
    "    prediction = {}\n",
    "    for model in models:\n",
    "        predicted_label, predicted_score = predict(model, filepath, top_n)\n",
    "        predicted_labels = predicted_labels + list(predicted_label)\n",
    "        predicted_scores = predicted_scores + list(predicted_score)\n",
    "        for i, label in enumerate(predicted_labels):\n",
    "            if predicted_labels[i] in prediction:\n",
    "                if prediction[categories[predicted_labels[i]]] < predicted_scores[i]:\n",
    "                    prediction[categories[predicted_labels[i]]] = predicted_scores[i]\n",
    "            else:\n",
    "                prediction[categories[predicted_labels[i]]] = predicted_scores[i]\n",
    "    prediction = dict(sorted(prediction.items(), key=lambda item: item[1], reverse=True)[:top_n])\n",
    "    return prediction"
   ]
  },
  {
   "cell_type": "code",
   "execution_count": null,
   "id": "659c4a18",
   "metadata": {},
   "outputs": [],
   "source": [
    "plt.figure(figsize=(10, 3))\n",
    "\n",
    "for idx, food in enumerate(FOOD_DIR):\n",
    "    pred = ensemble_predict(food, TOP_N)\n",
    "    plt.subplot(1, len(FOOD_DIR), idx + 1)\n",
    "    img = plt.imread(food)\n",
    "    plt.title(list(pred.keys())[0])\n",
    "    plt.imshow(img, cmap=\"gray\")\n",
    "    plt.axis(\"off\")\n",
    "    print(\"=\" * 50)\n",
    "    print(list(pred.keys())[0])\n",
    "    print(pred)\n",
    "    print(\"=\" * 50)\n",
    "plt.tight_layout()"
   ]
  }
 ],
 "metadata": {
  "kernelspec": {
   "display_name": "Python 3 (ipykernel)",
   "language": "python",
   "name": "python3"
  },
  "language_info": {
   "codemirror_mode": {
    "name": "ipython",
    "version": 3
   },
   "file_extension": ".py",
   "mimetype": "text/x-python",
   "name": "python",
   "nbconvert_exporter": "python",
   "pygments_lexer": "ipython3",
   "version": "3.10.9"
  }
 },
 "nbformat": 4,
 "nbformat_minor": 5
}
